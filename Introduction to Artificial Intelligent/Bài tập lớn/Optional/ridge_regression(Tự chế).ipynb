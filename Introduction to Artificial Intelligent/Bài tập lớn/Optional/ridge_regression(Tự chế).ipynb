{
 "cells": [
  {
   "cell_type": "markdown",
   "metadata": {},
   "source": [
    "# Sample dataset"
   ]
  },
  {
   "cell_type": "code",
   "execution_count": 36,
   "metadata": {},
   "outputs": [],
   "source": [
    "from sklearn.datasets import load_diabetes\n",
    "from sklearn.model_selection import train_test_split\n",
    "from sklearn.preprocessing import StandardScaler\n",
    "import numpy as np\n",
    "import pandas as pd"
   ]
  },
  {
   "cell_type": "code",
   "execution_count": 37,
   "metadata": {},
   "outputs": [],
   "source": [
    "diabetes = load_diabetes()"
   ]
  },
  {
   "cell_type": "code",
   "execution_count": 38,
   "metadata": {},
   "outputs": [
    {
     "data": {
      "text/html": [
       "<div>\n",
       "<style scoped>\n",
       "    .dataframe tbody tr th:only-of-type {\n",
       "        vertical-align: middle;\n",
       "    }\n",
       "\n",
       "    .dataframe tbody tr th {\n",
       "        vertical-align: top;\n",
       "    }\n",
       "\n",
       "    .dataframe thead th {\n",
       "        text-align: right;\n",
       "    }\n",
       "</style>\n",
       "<table border=\"1\" class=\"dataframe\">\n",
       "  <thead>\n",
       "    <tr style=\"text-align: right;\">\n",
       "      <th></th>\n",
       "      <th>age</th>\n",
       "      <th>sex</th>\n",
       "      <th>bmi</th>\n",
       "      <th>bp</th>\n",
       "      <th>s1</th>\n",
       "      <th>s2</th>\n",
       "      <th>s3</th>\n",
       "      <th>s4</th>\n",
       "      <th>s5</th>\n",
       "      <th>s6</th>\n",
       "    </tr>\n",
       "  </thead>\n",
       "  <tbody>\n",
       "    <tr>\n",
       "      <th>0</th>\n",
       "      <td>0.038076</td>\n",
       "      <td>0.050680</td>\n",
       "      <td>0.061696</td>\n",
       "      <td>0.021872</td>\n",
       "      <td>-0.044223</td>\n",
       "      <td>-0.034821</td>\n",
       "      <td>-0.043401</td>\n",
       "      <td>-0.002592</td>\n",
       "      <td>0.019907</td>\n",
       "      <td>-0.017646</td>\n",
       "    </tr>\n",
       "    <tr>\n",
       "      <th>1</th>\n",
       "      <td>-0.001882</td>\n",
       "      <td>-0.044642</td>\n",
       "      <td>-0.051474</td>\n",
       "      <td>-0.026328</td>\n",
       "      <td>-0.008449</td>\n",
       "      <td>-0.019163</td>\n",
       "      <td>0.074412</td>\n",
       "      <td>-0.039493</td>\n",
       "      <td>-0.068332</td>\n",
       "      <td>-0.092204</td>\n",
       "    </tr>\n",
       "    <tr>\n",
       "      <th>2</th>\n",
       "      <td>0.085299</td>\n",
       "      <td>0.050680</td>\n",
       "      <td>0.044451</td>\n",
       "      <td>-0.005670</td>\n",
       "      <td>-0.045599</td>\n",
       "      <td>-0.034194</td>\n",
       "      <td>-0.032356</td>\n",
       "      <td>-0.002592</td>\n",
       "      <td>0.002861</td>\n",
       "      <td>-0.025930</td>\n",
       "    </tr>\n",
       "    <tr>\n",
       "      <th>3</th>\n",
       "      <td>-0.089063</td>\n",
       "      <td>-0.044642</td>\n",
       "      <td>-0.011595</td>\n",
       "      <td>-0.036656</td>\n",
       "      <td>0.012191</td>\n",
       "      <td>0.024991</td>\n",
       "      <td>-0.036038</td>\n",
       "      <td>0.034309</td>\n",
       "      <td>0.022688</td>\n",
       "      <td>-0.009362</td>\n",
       "    </tr>\n",
       "    <tr>\n",
       "      <th>4</th>\n",
       "      <td>0.005383</td>\n",
       "      <td>-0.044642</td>\n",
       "      <td>-0.036385</td>\n",
       "      <td>0.021872</td>\n",
       "      <td>0.003935</td>\n",
       "      <td>0.015596</td>\n",
       "      <td>0.008142</td>\n",
       "      <td>-0.002592</td>\n",
       "      <td>-0.031988</td>\n",
       "      <td>-0.046641</td>\n",
       "    </tr>\n",
       "    <tr>\n",
       "      <th>...</th>\n",
       "      <td>...</td>\n",
       "      <td>...</td>\n",
       "      <td>...</td>\n",
       "      <td>...</td>\n",
       "      <td>...</td>\n",
       "      <td>...</td>\n",
       "      <td>...</td>\n",
       "      <td>...</td>\n",
       "      <td>...</td>\n",
       "      <td>...</td>\n",
       "    </tr>\n",
       "    <tr>\n",
       "      <th>437</th>\n",
       "      <td>0.041708</td>\n",
       "      <td>0.050680</td>\n",
       "      <td>0.019662</td>\n",
       "      <td>0.059744</td>\n",
       "      <td>-0.005697</td>\n",
       "      <td>-0.002566</td>\n",
       "      <td>-0.028674</td>\n",
       "      <td>-0.002592</td>\n",
       "      <td>0.031193</td>\n",
       "      <td>0.007207</td>\n",
       "    </tr>\n",
       "    <tr>\n",
       "      <th>438</th>\n",
       "      <td>-0.005515</td>\n",
       "      <td>0.050680</td>\n",
       "      <td>-0.015906</td>\n",
       "      <td>-0.067642</td>\n",
       "      <td>0.049341</td>\n",
       "      <td>0.079165</td>\n",
       "      <td>-0.028674</td>\n",
       "      <td>0.034309</td>\n",
       "      <td>-0.018114</td>\n",
       "      <td>0.044485</td>\n",
       "    </tr>\n",
       "    <tr>\n",
       "      <th>439</th>\n",
       "      <td>0.041708</td>\n",
       "      <td>0.050680</td>\n",
       "      <td>-0.015906</td>\n",
       "      <td>0.017293</td>\n",
       "      <td>-0.037344</td>\n",
       "      <td>-0.013840</td>\n",
       "      <td>-0.024993</td>\n",
       "      <td>-0.011080</td>\n",
       "      <td>-0.046883</td>\n",
       "      <td>0.015491</td>\n",
       "    </tr>\n",
       "    <tr>\n",
       "      <th>440</th>\n",
       "      <td>-0.045472</td>\n",
       "      <td>-0.044642</td>\n",
       "      <td>0.039062</td>\n",
       "      <td>0.001215</td>\n",
       "      <td>0.016318</td>\n",
       "      <td>0.015283</td>\n",
       "      <td>-0.028674</td>\n",
       "      <td>0.026560</td>\n",
       "      <td>0.044529</td>\n",
       "      <td>-0.025930</td>\n",
       "    </tr>\n",
       "    <tr>\n",
       "      <th>441</th>\n",
       "      <td>-0.045472</td>\n",
       "      <td>-0.044642</td>\n",
       "      <td>-0.073030</td>\n",
       "      <td>-0.081413</td>\n",
       "      <td>0.083740</td>\n",
       "      <td>0.027809</td>\n",
       "      <td>0.173816</td>\n",
       "      <td>-0.039493</td>\n",
       "      <td>-0.004222</td>\n",
       "      <td>0.003064</td>\n",
       "    </tr>\n",
       "  </tbody>\n",
       "</table>\n",
       "<p>442 rows × 10 columns</p>\n",
       "</div>"
      ],
      "text/plain": [
       "          age       sex       bmi        bp        s1        s2        s3  \\\n",
       "0    0.038076  0.050680  0.061696  0.021872 -0.044223 -0.034821 -0.043401   \n",
       "1   -0.001882 -0.044642 -0.051474 -0.026328 -0.008449 -0.019163  0.074412   \n",
       "2    0.085299  0.050680  0.044451 -0.005670 -0.045599 -0.034194 -0.032356   \n",
       "3   -0.089063 -0.044642 -0.011595 -0.036656  0.012191  0.024991 -0.036038   \n",
       "4    0.005383 -0.044642 -0.036385  0.021872  0.003935  0.015596  0.008142   \n",
       "..        ...       ...       ...       ...       ...       ...       ...   \n",
       "437  0.041708  0.050680  0.019662  0.059744 -0.005697 -0.002566 -0.028674   \n",
       "438 -0.005515  0.050680 -0.015906 -0.067642  0.049341  0.079165 -0.028674   \n",
       "439  0.041708  0.050680 -0.015906  0.017293 -0.037344 -0.013840 -0.024993   \n",
       "440 -0.045472 -0.044642  0.039062  0.001215  0.016318  0.015283 -0.028674   \n",
       "441 -0.045472 -0.044642 -0.073030 -0.081413  0.083740  0.027809  0.173816   \n",
       "\n",
       "           s4        s5        s6  \n",
       "0   -0.002592  0.019907 -0.017646  \n",
       "1   -0.039493 -0.068332 -0.092204  \n",
       "2   -0.002592  0.002861 -0.025930  \n",
       "3    0.034309  0.022688 -0.009362  \n",
       "4   -0.002592 -0.031988 -0.046641  \n",
       "..        ...       ...       ...  \n",
       "437 -0.002592  0.031193  0.007207  \n",
       "438  0.034309 -0.018114  0.044485  \n",
       "439 -0.011080 -0.046883  0.015491  \n",
       "440  0.026560  0.044529 -0.025930  \n",
       "441 -0.039493 -0.004222  0.003064  \n",
       "\n",
       "[442 rows x 10 columns]"
      ]
     },
     "execution_count": 38,
     "metadata": {},
     "output_type": "execute_result"
    }
   ],
   "source": [
    "X = pd.DataFrame(diabetes.data,columns=diabetes.feature_names)\n",
    "X"
   ]
  },
  {
   "cell_type": "code",
   "execution_count": 39,
   "metadata": {},
   "outputs": [
    {
     "data": {
      "text/plain": [
       "0      151.0\n",
       "1       75.0\n",
       "2      141.0\n",
       "3      206.0\n",
       "4      135.0\n",
       "       ...  \n",
       "437    178.0\n",
       "438    104.0\n",
       "439    132.0\n",
       "440    220.0\n",
       "441     57.0\n",
       "Name: Disease_Progression, Length: 442, dtype: float64"
      ]
     },
     "execution_count": 39,
     "metadata": {},
     "output_type": "execute_result"
    }
   ],
   "source": [
    "y = pd.Series(diabetes.target,name='Disease_Progression')\n",
    "y"
   ]
  },
  {
   "cell_type": "code",
   "execution_count": 40,
   "metadata": {},
   "outputs": [],
   "source": [
    "X_train, X_test, y_train, y_test = train_test_split(X,y,test_size=0.2,random_state=42)"
   ]
  },
  {
   "cell_type": "code",
   "execution_count": 41,
   "metadata": {},
   "outputs": [],
   "source": [
    "scaler = StandardScaler()\n",
    "X_train = scaler.fit_transform(X_train)\n",
    "X_test = scaler.transform(X_test)"
   ]
  },
  {
   "cell_type": "markdown",
   "metadata": {},
   "source": [
    "## 1. Using math formula"
   ]
  },
  {
   "cell_type": "code",
   "execution_count": 42,
   "metadata": {},
   "outputs": [
    {
     "data": {
      "text/plain": [
       "array([  1.76114425, -11.50497111,  25.62468688,  16.81767375,\n",
       "       -43.20958592,  23.67750275,   7.13078061,  12.96539345,\n",
       "        34.68244486,   2.36387901])"
      ]
     },
     "execution_count": 42,
     "metadata": {},
     "output_type": "execute_result"
    }
   ],
   "source": [
    "lambda_param = 0.1    # Hệ số điều chuẩn (λ)\n",
    "# Tính các hệ số Ridge Regression\n",
    "I = np.eye(X_train.shape[1])  # Ma trận đơn vị (kích thước: số cột của X_bias)\n",
    "I[0,0] = 0  # Không điều chuẩn thành phần bias\n",
    "# Công thức Ridge Regression\n",
    "coefficients = np.dot(\n",
    "    np.linalg.inv(np.dot(X_train.T,X_train)+lambda_param*I),  # Ma trận nghịch đảo\n",
    "    np.dot(X_train.T, y_train)                                        # Nhân ma trận\n",
    ")\n",
    "coefficients"
   ]
  },
  {
   "cell_type": "code",
   "execution_count": 43,
   "metadata": {},
   "outputs": [
    {
     "data": {
      "text/plain": [
       "153.73654390934846"
      ]
     },
     "execution_count": 43,
     "metadata": {},
     "output_type": "execute_result"
    }
   ],
   "source": [
    "# 1. Thêm cột toàn số 1 vào trước ma trận X để tạo X*\n",
    "X_star = np.hstack([np.ones((X_train.shape[0], 1)), X_train])\n",
    "\n",
    "Q = np.eye(X_star.shape[1])\n",
    "Q[0,0] = 0\n",
    "\n",
    "# 2. Tính hệ số w bằng công thức bình phương tối thiểu\n",
    "w = np.dot(\n",
    "    np.linalg.inv(np.dot(X_star.T, X_star)+lambda_param*Q),\n",
    "    np.dot(X_star.T, y_train)\n",
    ")\n",
    "w[0]"
   ]
  },
  {
   "cell_type": "code",
   "execution_count": 44,
   "metadata": {},
   "outputs": [
    {
     "data": {
      "text/plain": [
       "array([139.58542157, 179.57697526, 134.250153  , 291.51284708,\n",
       "       123.71047445,  92.22657565, 258.18865821, 181.54369082,\n",
       "        90.00924495, 108.71919814,  94.17405616, 168.23084537,\n",
       "        53.86212503, 206.58637287, 100.08765697, 130.72540768,\n",
       "       219.60842407, 250.64149071, 196.35580077, 218.43951614,\n",
       "       207.34390244,  88.49981985,  70.50145835, 188.9364125 ,\n",
       "       154.93633886, 159.45690156, 188.36170612, 180.27242173,\n",
       "        48.06216612, 109.03265377, 174.97462553,  86.54422395,\n",
       "       132.90698012, 184.40484987, 173.81004816, 190.38616734,\n",
       "       124.34663813, 119.5926622 , 147.86809238,  59.12772405,\n",
       "        71.73500769, 107.69477845, 165.33120469, 154.81882564,\n",
       "       171.19537515,  61.60733761,  71.90717574, 114.70091966,\n",
       "        51.82371763, 167.36048838, 152.67883591,  63.0467208 ,\n",
       "       103.86147935, 109.17307803, 175.44722226, 154.79223522,\n",
       "        94.42297062, 210.6391186 , 120.18235089,  77.32234516,\n",
       "       187.82474798, 206.35676525, 140.66952475, 105.58711394,\n",
       "       130.54271189, 202.2350856 , 170.98970807, 164.80530084,\n",
       "       124.51708896, 144.66835763, 181.93667574, 199.2589892 ,\n",
       "       234.25393468, 145.84723738,  79.96568875, 157.14805784,\n",
       "       192.76094731, 208.79580653, 158.55774926, 205.79047967,\n",
       "       107.71281349, 140.81718155,  54.79521639,  55.93844383,\n",
       "       114.89100558,  79.16930009,  81.5376549 ,  54.63931773,\n",
       "       166.17800391])"
      ]
     },
     "execution_count": 44,
     "metadata": {},
     "output_type": "execute_result"
    }
   ],
   "source": [
    "a = np.dot(X_test,coefficients)+w[0]\n",
    "a"
   ]
  },
  {
   "cell_type": "code",
   "execution_count": 45,
   "metadata": {},
   "outputs": [
    {
     "data": {
      "text/plain": [
       "2899.066814017104"
      ]
     },
     "execution_count": 45,
     "metadata": {},
     "output_type": "execute_result"
    }
   ],
   "source": [
    "b = np.mean((y_test-a)**2)\n",
    "b"
   ]
  },
  {
   "cell_type": "markdown",
   "metadata": {},
   "source": [
    "## 2. Using created model"
   ]
  },
  {
   "cell_type": "code",
   "execution_count": 46,
   "metadata": {},
   "outputs": [],
   "source": [
    "class RidgeRegression:\n",
    "    def __init__(self,learning_rate=0.01,n_iterations=1000,alpha=0.1):\n",
    "        self.learning_rate = learning_rate\n",
    "        self.n_iterations = n_iterations\n",
    "        self.alpha = alpha        # Regularization strength\n",
    "        self.weights = None\n",
    "        self.bias = None\n",
    "    def fit(self,X,y):\n",
    "        n_samples,n_features = X.shape\n",
    "        self.weights = np.zeros(n_features)\n",
    "        self.bias = 0\n",
    "        for _ in range(self.n_iterations):\n",
    "            # Predict\n",
    "            y_predicted = np.dot(X,self.weights)+self.bias\n",
    "            # Calculate gradient (include regularization)\n",
    "            dw = (1/n_samples)*np.dot(X.T,(y_predicted-y))+(self.alpha*self.weights)/n_samples\n",
    "            db = (1/n_samples)*np.sum(y_predicted-y)\n",
    "            # Update parameters\n",
    "            self.weights = self.weights-self.learning_rate*dw\n",
    "            self.bias = self.bias-self.learning_rate*db\n",
    "    def predict(self,X):\n",
    "        return np.dot(X,self.weights)+self.bias\n",
    "    def r2_score(self,y_true,y_pred):\n",
    "        \"\"\"\n",
    "        Tính toán R² score để đánh giá mô hình\n",
    "        \"\"\"\n",
    "        ss_total = np.sum((y_true-np.mean(y_true))**2)\n",
    "        ss_residual = np.sum((y_true-y_pred)**2)\n",
    "        return 1-(ss_residual/ss_total)\n",
    "    def mean_square_error(self,y_true,y_pred):\n",
    "        \"\"\"\n",
    "        Tính toán Mean Square Error (MSE)\n",
    "        \"\"\"\n",
    "        mse = np.mean((y_true-y_pred)**2)\n",
    "        return mse"
   ]
  },
  {
   "cell_type": "code",
   "execution_count": 47,
   "metadata": {},
   "outputs": [],
   "source": [
    "model = RidgeRegression()\n",
    "model.fit(X_train,y_train)"
   ]
  },
  {
   "cell_type": "code",
   "execution_count": 48,
   "metadata": {},
   "outputs": [
    {
     "data": {
      "text/plain": [
       "array([140.60433878, 181.71959059, 140.38132173, 294.51366947,\n",
       "       120.98139183,  93.39020425, 257.3925688 , 187.76972127,\n",
       "        83.27580018, 111.00084103,  95.02388167, 162.57250546,\n",
       "        64.28088212, 205.38363737,  98.53143389, 132.39277603,\n",
       "       222.05681109, 246.63365793, 196.46921981, 214.53290762,\n",
       "       207.77966077,  88.64349652,  71.92873049, 188.47326077,\n",
       "       156.69653387, 162.32934101, 190.0801412 , 176.79848564,\n",
       "        49.75496324, 110.47187482, 180.90391768,  91.60363189,\n",
       "       131.35232626, 180.48499126, 173.15098871, 191.57737699,\n",
       "       122.13163997, 117.55038998, 145.03853976,  60.78775935,\n",
       "        74.43689421, 107.61102949, 161.90813517, 148.66955251,\n",
       "       175.73891338,  65.53343236,  78.79615632, 106.42146109,\n",
       "        58.63744953, 161.2023525 , 157.68932385,  65.62731583,\n",
       "       114.10680687, 107.89658099, 169.46391033, 160.70088349,\n",
       "        94.18034418, 208.0051284 , 118.04392795,  68.03231106,\n",
       "       184.67389835, 202.84161398, 141.78748224, 104.84872764,\n",
       "       125.64336993, 204.22562411, 166.70887847, 161.69535344,\n",
       "       118.56767085, 140.47202531, 180.43210554, 194.59250105,\n",
       "       235.4911511 , 142.64904244,  82.55662301, 150.22045201,\n",
       "       193.37448695, 206.23073889, 157.60080358, 198.90431544,\n",
       "       114.65770215, 137.61847709,  53.64023702,  55.58544858,\n",
       "       111.16128655,  85.15833584,  80.66256963,  61.9052371 ,\n",
       "       164.15409836])"
      ]
     },
     "execution_count": 48,
     "metadata": {},
     "output_type": "execute_result"
    }
   ],
   "source": [
    "y_pred = model.predict(X_test)\n",
    "y_pred"
   ]
  },
  {
   "cell_type": "code",
   "execution_count": 49,
   "metadata": {},
   "outputs": [
    {
     "data": {
      "text/plain": [
       "0.45550545514528795"
      ]
     },
     "execution_count": 49,
     "metadata": {},
     "output_type": "execute_result"
    }
   ],
   "source": [
    "r2 = model.r2_score(y_test,y_pred)\n",
    "r2"
   ]
  },
  {
   "cell_type": "code",
   "execution_count": 50,
   "metadata": {},
   "outputs": [
    {
     "data": {
      "text/plain": [
       "2884.8147248797436"
      ]
     },
     "execution_count": 50,
     "metadata": {},
     "output_type": "execute_result"
    }
   ],
   "source": [
    "mse = model.mean_square_error(y_test,y_pred)\n",
    "mse"
   ]
  }
 ],
 "metadata": {
  "kernelspec": {
   "display_name": "Python 3",
   "language": "python",
   "name": "python3"
  },
  "language_info": {
   "codemirror_mode": {
    "name": "ipython",
    "version": 3
   },
   "file_extension": ".py",
   "mimetype": "text/x-python",
   "name": "python",
   "nbconvert_exporter": "python",
   "pygments_lexer": "ipython3",
   "version": "3.11.9"
  }
 },
 "nbformat": 4,
 "nbformat_minor": 2
}
